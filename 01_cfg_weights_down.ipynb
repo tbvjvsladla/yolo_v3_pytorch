{
 "cells": [
  {
   "cell_type": "code",
   "execution_count": 9,
   "metadata": {},
   "outputs": [],
   "source": [
    "import requests, os\n",
    "import wget\n",
    "from tqdm import tqdm\n"
   ]
  },
  {
   "cell_type": "code",
   "execution_count": 17,
   "metadata": {},
   "outputs": [],
   "source": [
    "cfg_url = \"https://raw.githubusercontent.com/pjreddie/darknet/master/cfg/darknet53.cfg\"\n",
    "cfg_filename = \"darknet53.cfg\"\n",
    "\n",
    "weights_url = \"https://pjreddie.com/media/files/darknet53.weights\"\n",
    "weights_filename = \"darknet53.weights\""
   ]
  },
  {
   "cell_type": "code",
   "execution_count": 13,
   "metadata": {},
   "outputs": [
    {
     "name": "stdout",
     "output_type": "stream",
     "text": [
      "darknet53.cfg already exists. Skipping download.\n"
     ]
    }
   ],
   "source": [
    "# CFG 파일 다운로드\n",
    "if not os.path.isfile(cfg_filename):\n",
    "    wget.download(cfg_url, cfg_filename)\n",
    "    print(f\"\\n{cfg_filename} has been downloaded.\")\n",
    "else:\n",
    "    print(f\"{cfg_filename} already exists. Skipping download.\")"
   ]
  },
  {
   "cell_type": "code",
   "execution_count": 19,
   "metadata": {},
   "outputs": [
    {
     "name": "stdout",
     "output_type": "stream",
     "text": [
      "File size: 158.87 MB\n"
     ]
    }
   ],
   "source": [
    "# WEIGHTS 파일 다운로드 준비 및 용량 출력\n",
    "response = requests.get(weights_url, stream=True)\n",
    "total_size = int(response.headers.get('content-length', 0))\n",
    "\n",
    "print(f\"File size: {total_size / (1024 * 1024):.2f} MB\")"
   ]
  },
  {
   "cell_type": "code",
   "execution_count": 20,
   "metadata": {},
   "outputs": [
    {
     "name": "stderr",
     "output_type": "stream",
     "text": [
      "darknet53.weights: 100%|██████████| 159M/159M [01:12<00:00, 2.30MiB/s] "
     ]
    },
    {
     "name": "stdout",
     "output_type": "stream",
     "text": [
      "darknet53.weights has been downloaded.\n"
     ]
    },
    {
     "name": "stderr",
     "output_type": "stream",
     "text": [
      "\n"
     ]
    }
   ],
   "source": [
    "with open(weights_filename, 'wb') as f, tqdm(\n",
    "    desc=weights_filename,\n",
    "    total=total_size,\n",
    "    unit='iB',\n",
    "    unit_scale=True,\n",
    "    unit_divisor=1024,\n",
    ") as bar:\n",
    "    for chunk in response.iter_content(chunk_size=8192):\n",
    "        f.write(chunk)\n",
    "        bar.update(len(chunk))\n",
    "\n",
    "print(f\"{weights_filename} has been downloaded.\")"
   ]
  }
 ],
 "metadata": {
  "kernelspec": {
   "display_name": "Python 3",
   "language": "python",
   "name": "python3"
  },
  "language_info": {
   "codemirror_mode": {
    "name": "ipython",
    "version": 3
   },
   "file_extension": ".py",
   "mimetype": "text/x-python",
   "name": "python",
   "nbconvert_exporter": "python",
   "pygments_lexer": "ipython3",
   "version": "3.8.10"
  }
 },
 "nbformat": 4,
 "nbformat_minor": 2
}
