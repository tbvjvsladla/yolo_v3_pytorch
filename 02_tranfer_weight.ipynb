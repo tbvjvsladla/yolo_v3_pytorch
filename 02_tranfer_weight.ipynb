{
 "cells": [
  {
   "cell_type": "code",
   "execution_count": 10,
   "metadata": {},
   "outputs": [],
   "source": [
    "import torch\n",
    "import create_cfg_model as cm\n",
    "import darknet53_model as darknet53"
   ]
  },
  {
   "cell_type": "code",
   "execution_count": 2,
   "metadata": {},
   "outputs": [
    {
     "name": "stdout",
     "output_type": "stream",
     "text": [
      "Finished loading weights\n"
     ]
    }
   ],
   "source": [
    "cfg_file = \"darknet53.cfg\"\n",
    "weight_file = \"darknet53.weights\"\n",
    "\n",
    "blocks = cm.parse_cfg(cfg_file)\n",
    "# CFG 모델 인스턴스화\n",
    "cfg_model = cm.Darknet_cfg(blocks)\n",
    "#  pre-trained weights로 CFG 모델 초기화\n",
    "cm.load_weights(cfg_model, weight_file)"
   ]
  },
  {
   "cell_type": "code",
   "execution_count": 3,
   "metadata": {},
   "outputs": [
    {
     "name": "stdout",
     "output_type": "stream",
     "text": [
      "Input size: (3, 256, 256)\n",
      "Output size: torch.Size([1, 1000, 8, 8])\n"
     ]
    }
   ],
   "source": [
    "# CFG 모델의 디버깅\n",
    "cm.debug(cfg_model, input_size=(3, 256, 256))"
   ]
  },
  {
   "cell_type": "code",
   "execution_count": 4,
   "metadata": {},
   "outputs": [],
   "source": [
    "model = darknet53.Darknet53()"
   ]
  },
  {
   "cell_type": "code",
   "execution_count": 5,
   "metadata": {},
   "outputs": [
    {
     "name": "stdout",
     "output_type": "stream",
     "text": [
      "Input size: (3, 256, 256)\n",
      "Output size: torch.Size([1, 1000])\n"
     ]
    }
   ],
   "source": [
    "# 사용이 용이한 모델의 디버깅\n",
    "darknet53.debug(model, input_size=(3, 256, 256))"
   ]
  },
  {
   "cell_type": "code",
   "execution_count": 8,
   "metadata": {},
   "outputs": [],
   "source": [
    "# cfg_model의 가중치를 추출하여 사용이 용이한 모델에 붙여넣기\n",
    "def transfer_weights(cfg_model, custom_model):\n",
    "    cfg_params = list(cfg_model.named_parameters())\n",
    "    custom_params = list(custom_model.named_parameters())\n",
    "\n",
    "    for (name_cfg, param_cfg), (name_custom, param_custom) in zip(cfg_params, custom_params):\n",
    "        if param_cfg.data.shape == param_custom.data.shape:\n",
    "            param_custom.data = param_cfg.data.clone()\n",
    "            # print(f\"{name_cfg}의 레이어 파라미터를 {name_custom}로 전이\")\n",
    "        else:\n",
    "            print(f\"{name_cfg}레이어 파라미터를 {name_custom}에 붙여넣지 못함\")"
   ]
  },
  {
   "cell_type": "code",
   "execution_count": 9,
   "metadata": {},
   "outputs": [
    {
     "name": "stdout",
     "output_type": "stream",
     "text": [
      "module_list.76.conv_76.weight레이어 파라미터를 fc.2.weight에 붙여넣지 못함\n"
     ]
    }
   ],
   "source": [
    "transfer_weights(cfg_model, model)"
   ]
  },
  {
   "cell_type": "code",
   "execution_count": 11,
   "metadata": {},
   "outputs": [],
   "source": [
    "#전이 완료된 모델 저장하기\n",
    "MODEL_NAME='DarkNet53'\n",
    "\n",
    "torch.save(model.state_dict(), f'{MODEL_NAME}.pth')"
   ]
  }
 ],
 "metadata": {
  "kernelspec": {
   "display_name": "Python 3",
   "language": "python",
   "name": "python3"
  },
  "language_info": {
   "codemirror_mode": {
    "name": "ipython",
    "version": 3
   },
   "file_extension": ".py",
   "mimetype": "text/x-python",
   "name": "python",
   "nbconvert_exporter": "python",
   "pygments_lexer": "ipython3",
   "version": "3.8.10"
  }
 },
 "nbformat": 4,
 "nbformat_minor": 2
}
